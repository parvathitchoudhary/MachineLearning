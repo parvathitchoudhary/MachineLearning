{
 "cells": [
  {
   "cell_type": "markdown",
   "metadata": {},
   "source": [
    "### Importing Necessary Libraries"
   ]
  },
  {
   "cell_type": "code",
   "execution_count": 1,
   "metadata": {},
   "outputs": [],
   "source": [
    "import os\n",
    "import pandas as pd\n",
    "import numpy as np"
   ]
  },
  {
   "cell_type": "markdown",
   "metadata": {},
   "source": [
    "#### The os.listdir() function returns a list of all the files and directories in the specified directory. The if \".TXT\" not in i condition checks if the filename does not contain the substring \".TXT\", which suggests that only directories will be added to the folder_name list."
   ]
  },
  {
   "cell_type": "code",
   "execution_count": 2,
   "metadata": {},
   "outputs": [
    {
     "data": {
      "text/plain": [
       "['business', 'entertainment', 'politics', 'sport', 'tech']"
      ]
     },
     "execution_count": 2,
     "metadata": {},
     "output_type": "execute_result"
    }
   ],
   "source": [
    "folder_name=[]\n",
    "for i in os.listdir(r\"D:\\Data Science\\Dataset\\bbc\"):\n",
    "    if \".TXT\" not in i:\n",
    "        folder_name.append(i)\n",
    "folder_name    "
   ]
  },
  {
   "cell_type": "markdown",
   "metadata": {},
   "source": [
    "####  creating a dataset of the text contents of all the .txt files in the bbc subdirectories. However, it is important to note that the script assumes that all the files in the specified path have the .txt extension. If there are any files with other extensions, they will not be included in the dataset. Additionally, the script assumes that all the files can be opened and read successfully, which may not always be the case."
   ]
  },
  {
   "cell_type": "code",
   "execution_count": 3,
   "metadata": {},
   "outputs": [],
   "source": [
    "dataset=[]\n",
    "new_dataset=[]\n",
    "import glob\n",
    "for i in folder_name:\n",
    "    for j in glob.glob(\"D:\\\\Data Science\\\\Dataset\\\\bbc\\\\\"+i+\"\\\\*.txt\"):\n",
    "        f=open(j)\n",
    "        dataset.append([i,j.split(\"\\\\\")[-1],f.read()])\n",
    "        new_dataset.append([f.read()])"
   ]
  },
  {
   "cell_type": "code",
   "execution_count": 4,
   "metadata": {},
   "outputs": [],
   "source": [
    "dataset=pd.DataFrame(np.array(dataset))"
   ]
  },
  {
   "cell_type": "code",
   "execution_count": 5,
   "metadata": {},
   "outputs": [
    {
     "data": {
      "text/html": [
       "<div>\n",
       "<style scoped>\n",
       "    .dataframe tbody tr th:only-of-type {\n",
       "        vertical-align: middle;\n",
       "    }\n",
       "\n",
       "    .dataframe tbody tr th {\n",
       "        vertical-align: top;\n",
       "    }\n",
       "\n",
       "    .dataframe thead th {\n",
       "        text-align: right;\n",
       "    }\n",
       "</style>\n",
       "<table border=\"1\" class=\"dataframe\">\n",
       "  <thead>\n",
       "    <tr style=\"text-align: right;\">\n",
       "      <th></th>\n",
       "      <th>0</th>\n",
       "      <th>1</th>\n",
       "      <th>2</th>\n",
       "    </tr>\n",
       "  </thead>\n",
       "  <tbody>\n",
       "    <tr>\n",
       "      <th>0</th>\n",
       "      <td>business</td>\n",
       "      <td>001.txt</td>\n",
       "      <td>Ad sales boost Time Warner profit\\n\\nQuarterly...</td>\n",
       "    </tr>\n",
       "    <tr>\n",
       "      <th>1</th>\n",
       "      <td>business</td>\n",
       "      <td>002.txt</td>\n",
       "      <td>Dollar gains on Greenspan speech\\n\\nThe dollar...</td>\n",
       "    </tr>\n",
       "    <tr>\n",
       "      <th>2</th>\n",
       "      <td>business</td>\n",
       "      <td>003.txt</td>\n",
       "      <td>Yukos unit buyer faces loan claim\\n\\nThe owner...</td>\n",
       "    </tr>\n",
       "    <tr>\n",
       "      <th>3</th>\n",
       "      <td>business</td>\n",
       "      <td>004.txt</td>\n",
       "      <td>High fuel prices hit BA's profits\\n\\nBritish A...</td>\n",
       "    </tr>\n",
       "    <tr>\n",
       "      <th>4</th>\n",
       "      <td>business</td>\n",
       "      <td>005.txt</td>\n",
       "      <td>Pernod takeover talk lifts Domecq\\n\\nShares in...</td>\n",
       "    </tr>\n",
       "  </tbody>\n",
       "</table>\n",
       "</div>"
      ],
      "text/plain": [
       "          0        1                                                  2\n",
       "0  business  001.txt  Ad sales boost Time Warner profit\\n\\nQuarterly...\n",
       "1  business  002.txt  Dollar gains on Greenspan speech\\n\\nThe dollar...\n",
       "2  business  003.txt  Yukos unit buyer faces loan claim\\n\\nThe owner...\n",
       "3  business  004.txt  High fuel prices hit BA's profits\\n\\nBritish A...\n",
       "4  business  005.txt  Pernod takeover talk lifts Domecq\\n\\nShares in..."
      ]
     },
     "execution_count": 5,
     "metadata": {},
     "output_type": "execute_result"
    }
   ],
   "source": [
    "dataset.head()"
   ]
  },
  {
   "cell_type": "code",
   "execution_count": 6,
   "metadata": {},
   "outputs": [
    {
     "data": {
      "text/plain": [
       "(2224, 3)"
      ]
     },
     "execution_count": 6,
     "metadata": {},
     "output_type": "execute_result"
    }
   ],
   "source": [
    "dataset.shape"
   ]
  },
  {
   "cell_type": "code",
   "execution_count": 7,
   "metadata": {},
   "outputs": [
    {
     "data": {
      "text/plain": [
       "sport            511\n",
       "business         510\n",
       "politics         416\n",
       "tech             401\n",
       "entertainment    386\n",
       "Name: 0, dtype: int64"
      ]
     },
     "execution_count": 7,
     "metadata": {},
     "output_type": "execute_result"
    }
   ],
   "source": [
    "dataset[0].value_counts()"
   ]
  },
  {
   "cell_type": "code",
   "execution_count": 8,
   "metadata": {},
   "outputs": [],
   "source": [
    "y=dataset[0]\n",
    "x=dataset[2]"
   ]
  },
  {
   "cell_type": "code",
   "execution_count": 9,
   "metadata": {},
   "outputs": [],
   "source": [
    "dummy_table=pd.get_dummies(y)"
   ]
  },
  {
   "cell_type": "code",
   "execution_count": 10,
   "metadata": {},
   "outputs": [],
   "source": [
    "dataset.columns=['y','file name','x']"
   ]
  },
  {
   "cell_type": "code",
   "execution_count": 11,
   "metadata": {},
   "outputs": [],
   "source": [
    "for i in dummy_table:\n",
    "    dataset[i]=dummy_table[i]"
   ]
  },
  {
   "cell_type": "code",
   "execution_count": 12,
   "metadata": {},
   "outputs": [
    {
     "data": {
      "text/html": [
       "<div>\n",
       "<style scoped>\n",
       "    .dataframe tbody tr th:only-of-type {\n",
       "        vertical-align: middle;\n",
       "    }\n",
       "\n",
       "    .dataframe tbody tr th {\n",
       "        vertical-align: top;\n",
       "    }\n",
       "\n",
       "    .dataframe thead th {\n",
       "        text-align: right;\n",
       "    }\n",
       "</style>\n",
       "<table border=\"1\" class=\"dataframe\">\n",
       "  <thead>\n",
       "    <tr style=\"text-align: right;\">\n",
       "      <th></th>\n",
       "      <th>y</th>\n",
       "      <th>file name</th>\n",
       "      <th>x</th>\n",
       "      <th>business</th>\n",
       "      <th>entertainment</th>\n",
       "      <th>politics</th>\n",
       "      <th>sport</th>\n",
       "      <th>tech</th>\n",
       "    </tr>\n",
       "  </thead>\n",
       "  <tbody>\n",
       "    <tr>\n",
       "      <th>0</th>\n",
       "      <td>business</td>\n",
       "      <td>001.txt</td>\n",
       "      <td>Ad sales boost Time Warner profit\\n\\nQuarterly...</td>\n",
       "      <td>1</td>\n",
       "      <td>0</td>\n",
       "      <td>0</td>\n",
       "      <td>0</td>\n",
       "      <td>0</td>\n",
       "    </tr>\n",
       "    <tr>\n",
       "      <th>1</th>\n",
       "      <td>business</td>\n",
       "      <td>002.txt</td>\n",
       "      <td>Dollar gains on Greenspan speech\\n\\nThe dollar...</td>\n",
       "      <td>1</td>\n",
       "      <td>0</td>\n",
       "      <td>0</td>\n",
       "      <td>0</td>\n",
       "      <td>0</td>\n",
       "    </tr>\n",
       "    <tr>\n",
       "      <th>2</th>\n",
       "      <td>business</td>\n",
       "      <td>003.txt</td>\n",
       "      <td>Yukos unit buyer faces loan claim\\n\\nThe owner...</td>\n",
       "      <td>1</td>\n",
       "      <td>0</td>\n",
       "      <td>0</td>\n",
       "      <td>0</td>\n",
       "      <td>0</td>\n",
       "    </tr>\n",
       "    <tr>\n",
       "      <th>3</th>\n",
       "      <td>business</td>\n",
       "      <td>004.txt</td>\n",
       "      <td>High fuel prices hit BA's profits\\n\\nBritish A...</td>\n",
       "      <td>1</td>\n",
       "      <td>0</td>\n",
       "      <td>0</td>\n",
       "      <td>0</td>\n",
       "      <td>0</td>\n",
       "    </tr>\n",
       "    <tr>\n",
       "      <th>4</th>\n",
       "      <td>business</td>\n",
       "      <td>005.txt</td>\n",
       "      <td>Pernod takeover talk lifts Domecq\\n\\nShares in...</td>\n",
       "      <td>1</td>\n",
       "      <td>0</td>\n",
       "      <td>0</td>\n",
       "      <td>0</td>\n",
       "      <td>0</td>\n",
       "    </tr>\n",
       "  </tbody>\n",
       "</table>\n",
       "</div>"
      ],
      "text/plain": [
       "          y file name                                                  x  \\\n",
       "0  business   001.txt  Ad sales boost Time Warner profit\\n\\nQuarterly...   \n",
       "1  business   002.txt  Dollar gains on Greenspan speech\\n\\nThe dollar...   \n",
       "2  business   003.txt  Yukos unit buyer faces loan claim\\n\\nThe owner...   \n",
       "3  business   004.txt  High fuel prices hit BA's profits\\n\\nBritish A...   \n",
       "4  business   005.txt  Pernod takeover talk lifts Domecq\\n\\nShares in...   \n",
       "\n",
       "   business  entertainment  politics  sport  tech  \n",
       "0         1              0         0      0     0  \n",
       "1         1              0         0      0     0  \n",
       "2         1              0         0      0     0  \n",
       "3         1              0         0      0     0  \n",
       "4         1              0         0      0     0  "
      ]
     },
     "execution_count": 12,
     "metadata": {},
     "output_type": "execute_result"
    }
   ],
   "source": [
    "dataset.head()"
   ]
  },
  {
   "cell_type": "code",
   "execution_count": 13,
   "metadata": {},
   "outputs": [
    {
     "data": {
      "text/plain": [
       "(2224, 8)"
      ]
     },
     "execution_count": 13,
     "metadata": {},
     "output_type": "execute_result"
    }
   ],
   "source": [
    "dataset.shape"
   ]
  },
  {
   "cell_type": "code",
   "execution_count": 14,
   "metadata": {},
   "outputs": [
    {
     "data": {
      "text/html": [
       "<div>\n",
       "<style scoped>\n",
       "    .dataframe tbody tr th:only-of-type {\n",
       "        vertical-align: middle;\n",
       "    }\n",
       "\n",
       "    .dataframe tbody tr th {\n",
       "        vertical-align: top;\n",
       "    }\n",
       "\n",
       "    .dataframe thead th {\n",
       "        text-align: right;\n",
       "    }\n",
       "</style>\n",
       "<table border=\"1\" class=\"dataframe\">\n",
       "  <thead>\n",
       "    <tr style=\"text-align: right;\">\n",
       "      <th></th>\n",
       "      <th>y</th>\n",
       "      <th>file name</th>\n",
       "      <th>x</th>\n",
       "      <th>business</th>\n",
       "      <th>entertainment</th>\n",
       "      <th>politics</th>\n",
       "      <th>sport</th>\n",
       "      <th>tech</th>\n",
       "    </tr>\n",
       "  </thead>\n",
       "  <tbody>\n",
       "    <tr>\n",
       "      <th>1823</th>\n",
       "      <td>tech</td>\n",
       "      <td>001.txt</td>\n",
       "      <td>Ink helps drive democracy in Asia\\n\\nThe Kyrgy...</td>\n",
       "      <td>0</td>\n",
       "      <td>0</td>\n",
       "      <td>0</td>\n",
       "      <td>0</td>\n",
       "      <td>1</td>\n",
       "    </tr>\n",
       "    <tr>\n",
       "      <th>1824</th>\n",
       "      <td>tech</td>\n",
       "      <td>002.txt</td>\n",
       "      <td>China net cafe culture crackdown\\n\\nChinese au...</td>\n",
       "      <td>0</td>\n",
       "      <td>0</td>\n",
       "      <td>0</td>\n",
       "      <td>0</td>\n",
       "      <td>1</td>\n",
       "    </tr>\n",
       "    <tr>\n",
       "      <th>1825</th>\n",
       "      <td>tech</td>\n",
       "      <td>003.txt</td>\n",
       "      <td>Microsoft seeking spyware trojan\\n\\nMicrosoft ...</td>\n",
       "      <td>0</td>\n",
       "      <td>0</td>\n",
       "      <td>0</td>\n",
       "      <td>0</td>\n",
       "      <td>1</td>\n",
       "    </tr>\n",
       "    <tr>\n",
       "      <th>1826</th>\n",
       "      <td>tech</td>\n",
       "      <td>004.txt</td>\n",
       "      <td>Digital guru floats sub-$100 PC\\n\\nNicholas Ne...</td>\n",
       "      <td>0</td>\n",
       "      <td>0</td>\n",
       "      <td>0</td>\n",
       "      <td>0</td>\n",
       "      <td>1</td>\n",
       "    </tr>\n",
       "    <tr>\n",
       "      <th>1827</th>\n",
       "      <td>tech</td>\n",
       "      <td>005.txt</td>\n",
       "      <td>Technology gets the creative bug\\n\\nThe hi-tec...</td>\n",
       "      <td>0</td>\n",
       "      <td>0</td>\n",
       "      <td>0</td>\n",
       "      <td>0</td>\n",
       "      <td>1</td>\n",
       "    </tr>\n",
       "    <tr>\n",
       "      <th>...</th>\n",
       "      <td>...</td>\n",
       "      <td>...</td>\n",
       "      <td>...</td>\n",
       "      <td>...</td>\n",
       "      <td>...</td>\n",
       "      <td>...</td>\n",
       "      <td>...</td>\n",
       "      <td>...</td>\n",
       "    </tr>\n",
       "    <tr>\n",
       "      <th>2219</th>\n",
       "      <td>tech</td>\n",
       "      <td>397.txt</td>\n",
       "      <td>BT program to beat dialler scams\\n\\nBT is intr...</td>\n",
       "      <td>0</td>\n",
       "      <td>0</td>\n",
       "      <td>0</td>\n",
       "      <td>0</td>\n",
       "      <td>1</td>\n",
       "    </tr>\n",
       "    <tr>\n",
       "      <th>2220</th>\n",
       "      <td>tech</td>\n",
       "      <td>398.txt</td>\n",
       "      <td>Spam e-mails tempt net shoppers\\n\\nComputer us...</td>\n",
       "      <td>0</td>\n",
       "      <td>0</td>\n",
       "      <td>0</td>\n",
       "      <td>0</td>\n",
       "      <td>1</td>\n",
       "    </tr>\n",
       "    <tr>\n",
       "      <th>2221</th>\n",
       "      <td>tech</td>\n",
       "      <td>399.txt</td>\n",
       "      <td>Be careful how you code\\n\\nA new European dire...</td>\n",
       "      <td>0</td>\n",
       "      <td>0</td>\n",
       "      <td>0</td>\n",
       "      <td>0</td>\n",
       "      <td>1</td>\n",
       "    </tr>\n",
       "    <tr>\n",
       "      <th>2222</th>\n",
       "      <td>tech</td>\n",
       "      <td>400.txt</td>\n",
       "      <td>US cyber security chief resigns\\n\\nThe man mak...</td>\n",
       "      <td>0</td>\n",
       "      <td>0</td>\n",
       "      <td>0</td>\n",
       "      <td>0</td>\n",
       "      <td>1</td>\n",
       "    </tr>\n",
       "    <tr>\n",
       "      <th>2223</th>\n",
       "      <td>tech</td>\n",
       "      <td>401.txt</td>\n",
       "      <td>Losing yourself in online gaming\\n\\nOnline rol...</td>\n",
       "      <td>0</td>\n",
       "      <td>0</td>\n",
       "      <td>0</td>\n",
       "      <td>0</td>\n",
       "      <td>1</td>\n",
       "    </tr>\n",
       "  </tbody>\n",
       "</table>\n",
       "<p>401 rows × 8 columns</p>\n",
       "</div>"
      ],
      "text/plain": [
       "         y file name                                                  x  \\\n",
       "1823  tech   001.txt  Ink helps drive democracy in Asia\\n\\nThe Kyrgy...   \n",
       "1824  tech   002.txt  China net cafe culture crackdown\\n\\nChinese au...   \n",
       "1825  tech   003.txt  Microsoft seeking spyware trojan\\n\\nMicrosoft ...   \n",
       "1826  tech   004.txt  Digital guru floats sub-$100 PC\\n\\nNicholas Ne...   \n",
       "1827  tech   005.txt  Technology gets the creative bug\\n\\nThe hi-tec...   \n",
       "...    ...       ...                                                ...   \n",
       "2219  tech   397.txt  BT program to beat dialler scams\\n\\nBT is intr...   \n",
       "2220  tech   398.txt  Spam e-mails tempt net shoppers\\n\\nComputer us...   \n",
       "2221  tech   399.txt  Be careful how you code\\n\\nA new European dire...   \n",
       "2222  tech   400.txt  US cyber security chief resigns\\n\\nThe man mak...   \n",
       "2223  tech   401.txt  Losing yourself in online gaming\\n\\nOnline rol...   \n",
       "\n",
       "      business  entertainment  politics  sport  tech  \n",
       "1823         0              0         0      0     1  \n",
       "1824         0              0         0      0     1  \n",
       "1825         0              0         0      0     1  \n",
       "1826         0              0         0      0     1  \n",
       "1827         0              0         0      0     1  \n",
       "...        ...            ...       ...    ...   ...  \n",
       "2219         0              0         0      0     1  \n",
       "2220         0              0         0      0     1  \n",
       "2221         0              0         0      0     1  \n",
       "2222         0              0         0      0     1  \n",
       "2223         0              0         0      0     1  \n",
       "\n",
       "[401 rows x 8 columns]"
      ]
     },
     "execution_count": 14,
     "metadata": {},
     "output_type": "execute_result"
    }
   ],
   "source": [
    "d1=dataset[dataset[i]==1]\n",
    "d1"
   ]
  },
  {
   "cell_type": "code",
   "execution_count": 15,
   "metadata": {},
   "outputs": [
    {
     "data": {
      "text/html": [
       "<div>\n",
       "<style scoped>\n",
       "    .dataframe tbody tr th:only-of-type {\n",
       "        vertical-align: middle;\n",
       "    }\n",
       "\n",
       "    .dataframe tbody tr th {\n",
       "        vertical-align: top;\n",
       "    }\n",
       "\n",
       "    .dataframe thead th {\n",
       "        text-align: right;\n",
       "    }\n",
       "</style>\n",
       "<table border=\"1\" class=\"dataframe\">\n",
       "  <thead>\n",
       "    <tr style=\"text-align: right;\">\n",
       "      <th></th>\n",
       "      <th>y</th>\n",
       "      <th>file name</th>\n",
       "      <th>x</th>\n",
       "      <th>business</th>\n",
       "      <th>entertainment</th>\n",
       "      <th>politics</th>\n",
       "      <th>sport</th>\n",
       "      <th>tech</th>\n",
       "    </tr>\n",
       "  </thead>\n",
       "  <tbody>\n",
       "    <tr>\n",
       "      <th>1782</th>\n",
       "      <td>sport</td>\n",
       "      <td>471.txt</td>\n",
       "      <td>Capriati out of Australian Open\\n\\nJennifer Ca...</td>\n",
       "      <td>0</td>\n",
       "      <td>0</td>\n",
       "      <td>0</td>\n",
       "      <td>1</td>\n",
       "      <td>0</td>\n",
       "    </tr>\n",
       "    <tr>\n",
       "      <th>805</th>\n",
       "      <td>entertainment</td>\n",
       "      <td>296.txt</td>\n",
       "      <td>Snow Patrol bassist exits group\\n\\nSnow Patrol...</td>\n",
       "      <td>0</td>\n",
       "      <td>1</td>\n",
       "      <td>0</td>\n",
       "      <td>0</td>\n",
       "      <td>0</td>\n",
       "    </tr>\n",
       "    <tr>\n",
       "      <th>1412</th>\n",
       "      <td>sport</td>\n",
       "      <td>101.txt</td>\n",
       "      <td>Man City 0-2 Man Utd\\n\\nManchester United redu...</td>\n",
       "      <td>0</td>\n",
       "      <td>0</td>\n",
       "      <td>0</td>\n",
       "      <td>1</td>\n",
       "      <td>0</td>\n",
       "    </tr>\n",
       "    <tr>\n",
       "      <th>954</th>\n",
       "      <td>politics</td>\n",
       "      <td>059.txt</td>\n",
       "      <td>'Debate needed' on donations cap\\n\\nA cap on d...</td>\n",
       "      <td>0</td>\n",
       "      <td>0</td>\n",
       "      <td>1</td>\n",
       "      <td>0</td>\n",
       "      <td>0</td>\n",
       "    </tr>\n",
       "    <tr>\n",
       "      <th>326</th>\n",
       "      <td>business</td>\n",
       "      <td>327.txt</td>\n",
       "      <td>Cannabis hopes for drug firm\\n\\nA prescription...</td>\n",
       "      <td>1</td>\n",
       "      <td>0</td>\n",
       "      <td>0</td>\n",
       "      <td>0</td>\n",
       "      <td>0</td>\n",
       "    </tr>\n",
       "    <tr>\n",
       "      <th>...</th>\n",
       "      <td>...</td>\n",
       "      <td>...</td>\n",
       "      <td>...</td>\n",
       "      <td>...</td>\n",
       "      <td>...</td>\n",
       "      <td>...</td>\n",
       "      <td>...</td>\n",
       "      <td>...</td>\n",
       "    </tr>\n",
       "    <tr>\n",
       "      <th>1128</th>\n",
       "      <td>politics</td>\n",
       "      <td>233.txt</td>\n",
       "      <td>'Few ready' for information act\\n\\nThousands o...</td>\n",
       "      <td>0</td>\n",
       "      <td>0</td>\n",
       "      <td>1</td>\n",
       "      <td>0</td>\n",
       "      <td>0</td>\n",
       "    </tr>\n",
       "    <tr>\n",
       "      <th>1599</th>\n",
       "      <td>sport</td>\n",
       "      <td>288.txt</td>\n",
       "      <td>Lewsey puzzle over disallowed try\\n\\nEngland's...</td>\n",
       "      <td>0</td>\n",
       "      <td>0</td>\n",
       "      <td>0</td>\n",
       "      <td>1</td>\n",
       "      <td>0</td>\n",
       "    </tr>\n",
       "    <tr>\n",
       "      <th>741</th>\n",
       "      <td>entertainment</td>\n",
       "      <td>232.txt</td>\n",
       "      <td>Connick Jr to lead Broadway show\\n\\nSinger and...</td>\n",
       "      <td>0</td>\n",
       "      <td>1</td>\n",
       "      <td>0</td>\n",
       "      <td>0</td>\n",
       "      <td>0</td>\n",
       "    </tr>\n",
       "    <tr>\n",
       "      <th>1517</th>\n",
       "      <td>sport</td>\n",
       "      <td>206.txt</td>\n",
       "      <td>Anelka 'eyes Man City departure'\\n\\nStriker Ni...</td>\n",
       "      <td>0</td>\n",
       "      <td>0</td>\n",
       "      <td>0</td>\n",
       "      <td>1</td>\n",
       "      <td>0</td>\n",
       "    </tr>\n",
       "    <tr>\n",
       "      <th>1532</th>\n",
       "      <td>sport</td>\n",
       "      <td>221.txt</td>\n",
       "      <td>Lennon brands Rangers favourites\\n\\nCeltic's N...</td>\n",
       "      <td>0</td>\n",
       "      <td>0</td>\n",
       "      <td>0</td>\n",
       "      <td>1</td>\n",
       "      <td>0</td>\n",
       "    </tr>\n",
       "  </tbody>\n",
       "</table>\n",
       "<p>401 rows × 8 columns</p>\n",
       "</div>"
      ],
      "text/plain": [
       "                  y file name  \\\n",
       "1782          sport   471.txt   \n",
       "805   entertainment   296.txt   \n",
       "1412          sport   101.txt   \n",
       "954        politics   059.txt   \n",
       "326        business   327.txt   \n",
       "...             ...       ...   \n",
       "1128       politics   233.txt   \n",
       "1599          sport   288.txt   \n",
       "741   entertainment   232.txt   \n",
       "1517          sport   206.txt   \n",
       "1532          sport   221.txt   \n",
       "\n",
       "                                                      x  business  \\\n",
       "1782  Capriati out of Australian Open\\n\\nJennifer Ca...         0   \n",
       "805   Snow Patrol bassist exits group\\n\\nSnow Patrol...         0   \n",
       "1412  Man City 0-2 Man Utd\\n\\nManchester United redu...         0   \n",
       "954   'Debate needed' on donations cap\\n\\nA cap on d...         0   \n",
       "326   Cannabis hopes for drug firm\\n\\nA prescription...         1   \n",
       "...                                                 ...       ...   \n",
       "1128  'Few ready' for information act\\n\\nThousands o...         0   \n",
       "1599  Lewsey puzzle over disallowed try\\n\\nEngland's...         0   \n",
       "741   Connick Jr to lead Broadway show\\n\\nSinger and...         0   \n",
       "1517  Anelka 'eyes Man City departure'\\n\\nStriker Ni...         0   \n",
       "1532  Lennon brands Rangers favourites\\n\\nCeltic's N...         0   \n",
       "\n",
       "      entertainment  politics  sport  tech  \n",
       "1782              0         0      1     0  \n",
       "805               1         0      0     0  \n",
       "1412              0         0      1     0  \n",
       "954               0         1      0     0  \n",
       "326               0         0      0     0  \n",
       "...             ...       ...    ...   ...  \n",
       "1128              0         1      0     0  \n",
       "1599              0         0      1     0  \n",
       "741               1         0      0     0  \n",
       "1517              0         0      1     0  \n",
       "1532              0         0      1     0  \n",
       "\n",
       "[401 rows x 8 columns]"
      ]
     },
     "execution_count": 15,
     "metadata": {},
     "output_type": "execute_result"
    }
   ],
   "source": [
    "d2=dataset[dataset[i]!=1].sample(d1.shape[0])\n",
    "d2"
   ]
  },
  {
   "cell_type": "code",
   "execution_count": 16,
   "metadata": {},
   "outputs": [
    {
     "data": {
      "text/html": [
       "<div>\n",
       "<style scoped>\n",
       "    .dataframe tbody tr th:only-of-type {\n",
       "        vertical-align: middle;\n",
       "    }\n",
       "\n",
       "    .dataframe tbody tr th {\n",
       "        vertical-align: top;\n",
       "    }\n",
       "\n",
       "    .dataframe thead th {\n",
       "        text-align: right;\n",
       "    }\n",
       "</style>\n",
       "<table border=\"1\" class=\"dataframe\">\n",
       "  <thead>\n",
       "    <tr style=\"text-align: right;\">\n",
       "      <th></th>\n",
       "      <th>y</th>\n",
       "      <th>file name</th>\n",
       "      <th>x</th>\n",
       "      <th>business</th>\n",
       "      <th>entertainment</th>\n",
       "      <th>politics</th>\n",
       "      <th>sport</th>\n",
       "      <th>tech</th>\n",
       "    </tr>\n",
       "  </thead>\n",
       "  <tbody>\n",
       "    <tr>\n",
       "      <th>1823</th>\n",
       "      <td>tech</td>\n",
       "      <td>001.txt</td>\n",
       "      <td>Ink helps drive democracy in Asia\\n\\nThe Kyrgy...</td>\n",
       "      <td>0</td>\n",
       "      <td>0</td>\n",
       "      <td>0</td>\n",
       "      <td>0</td>\n",
       "      <td>1</td>\n",
       "    </tr>\n",
       "    <tr>\n",
       "      <th>1824</th>\n",
       "      <td>tech</td>\n",
       "      <td>002.txt</td>\n",
       "      <td>China net cafe culture crackdown\\n\\nChinese au...</td>\n",
       "      <td>0</td>\n",
       "      <td>0</td>\n",
       "      <td>0</td>\n",
       "      <td>0</td>\n",
       "      <td>1</td>\n",
       "    </tr>\n",
       "    <tr>\n",
       "      <th>1825</th>\n",
       "      <td>tech</td>\n",
       "      <td>003.txt</td>\n",
       "      <td>Microsoft seeking spyware trojan\\n\\nMicrosoft ...</td>\n",
       "      <td>0</td>\n",
       "      <td>0</td>\n",
       "      <td>0</td>\n",
       "      <td>0</td>\n",
       "      <td>1</td>\n",
       "    </tr>\n",
       "    <tr>\n",
       "      <th>1826</th>\n",
       "      <td>tech</td>\n",
       "      <td>004.txt</td>\n",
       "      <td>Digital guru floats sub-$100 PC\\n\\nNicholas Ne...</td>\n",
       "      <td>0</td>\n",
       "      <td>0</td>\n",
       "      <td>0</td>\n",
       "      <td>0</td>\n",
       "      <td>1</td>\n",
       "    </tr>\n",
       "    <tr>\n",
       "      <th>1827</th>\n",
       "      <td>tech</td>\n",
       "      <td>005.txt</td>\n",
       "      <td>Technology gets the creative bug\\n\\nThe hi-tec...</td>\n",
       "      <td>0</td>\n",
       "      <td>0</td>\n",
       "      <td>0</td>\n",
       "      <td>0</td>\n",
       "      <td>1</td>\n",
       "    </tr>\n",
       "    <tr>\n",
       "      <th>...</th>\n",
       "      <td>...</td>\n",
       "      <td>...</td>\n",
       "      <td>...</td>\n",
       "      <td>...</td>\n",
       "      <td>...</td>\n",
       "      <td>...</td>\n",
       "      <td>...</td>\n",
       "      <td>...</td>\n",
       "    </tr>\n",
       "    <tr>\n",
       "      <th>1128</th>\n",
       "      <td>politics</td>\n",
       "      <td>233.txt</td>\n",
       "      <td>'Few ready' for information act\\n\\nThousands o...</td>\n",
       "      <td>0</td>\n",
       "      <td>0</td>\n",
       "      <td>1</td>\n",
       "      <td>0</td>\n",
       "      <td>0</td>\n",
       "    </tr>\n",
       "    <tr>\n",
       "      <th>1599</th>\n",
       "      <td>sport</td>\n",
       "      <td>288.txt</td>\n",
       "      <td>Lewsey puzzle over disallowed try\\n\\nEngland's...</td>\n",
       "      <td>0</td>\n",
       "      <td>0</td>\n",
       "      <td>0</td>\n",
       "      <td>1</td>\n",
       "      <td>0</td>\n",
       "    </tr>\n",
       "    <tr>\n",
       "      <th>741</th>\n",
       "      <td>entertainment</td>\n",
       "      <td>232.txt</td>\n",
       "      <td>Connick Jr to lead Broadway show\\n\\nSinger and...</td>\n",
       "      <td>0</td>\n",
       "      <td>1</td>\n",
       "      <td>0</td>\n",
       "      <td>0</td>\n",
       "      <td>0</td>\n",
       "    </tr>\n",
       "    <tr>\n",
       "      <th>1517</th>\n",
       "      <td>sport</td>\n",
       "      <td>206.txt</td>\n",
       "      <td>Anelka 'eyes Man City departure'\\n\\nStriker Ni...</td>\n",
       "      <td>0</td>\n",
       "      <td>0</td>\n",
       "      <td>0</td>\n",
       "      <td>1</td>\n",
       "      <td>0</td>\n",
       "    </tr>\n",
       "    <tr>\n",
       "      <th>1532</th>\n",
       "      <td>sport</td>\n",
       "      <td>221.txt</td>\n",
       "      <td>Lennon brands Rangers favourites\\n\\nCeltic's N...</td>\n",
       "      <td>0</td>\n",
       "      <td>0</td>\n",
       "      <td>0</td>\n",
       "      <td>1</td>\n",
       "      <td>0</td>\n",
       "    </tr>\n",
       "  </tbody>\n",
       "</table>\n",
       "<p>802 rows × 8 columns</p>\n",
       "</div>"
      ],
      "text/plain": [
       "                  y file name  \\\n",
       "1823           tech   001.txt   \n",
       "1824           tech   002.txt   \n",
       "1825           tech   003.txt   \n",
       "1826           tech   004.txt   \n",
       "1827           tech   005.txt   \n",
       "...             ...       ...   \n",
       "1128       politics   233.txt   \n",
       "1599          sport   288.txt   \n",
       "741   entertainment   232.txt   \n",
       "1517          sport   206.txt   \n",
       "1532          sport   221.txt   \n",
       "\n",
       "                                                      x  business  \\\n",
       "1823  Ink helps drive democracy in Asia\\n\\nThe Kyrgy...         0   \n",
       "1824  China net cafe culture crackdown\\n\\nChinese au...         0   \n",
       "1825  Microsoft seeking spyware trojan\\n\\nMicrosoft ...         0   \n",
       "1826  Digital guru floats sub-$100 PC\\n\\nNicholas Ne...         0   \n",
       "1827  Technology gets the creative bug\\n\\nThe hi-tec...         0   \n",
       "...                                                 ...       ...   \n",
       "1128  'Few ready' for information act\\n\\nThousands o...         0   \n",
       "1599  Lewsey puzzle over disallowed try\\n\\nEngland's...         0   \n",
       "741   Connick Jr to lead Broadway show\\n\\nSinger and...         0   \n",
       "1517  Anelka 'eyes Man City departure'\\n\\nStriker Ni...         0   \n",
       "1532  Lennon brands Rangers favourites\\n\\nCeltic's N...         0   \n",
       "\n",
       "      entertainment  politics  sport  tech  \n",
       "1823              0         0      0     1  \n",
       "1824              0         0      0     1  \n",
       "1825              0         0      0     1  \n",
       "1826              0         0      0     1  \n",
       "1827              0         0      0     1  \n",
       "...             ...       ...    ...   ...  \n",
       "1128              0         1      0     0  \n",
       "1599              0         0      1     0  \n",
       "741               1         0      0     0  \n",
       "1517              0         0      1     0  \n",
       "1532              0         0      1     0  \n",
       "\n",
       "[802 rows x 8 columns]"
      ]
     },
     "execution_count": 16,
     "metadata": {},
     "output_type": "execute_result"
    }
   ],
   "source": [
    "final_dataset=d1.append(d2)\n",
    "final_dataset"
   ]
  },
  {
   "cell_type": "markdown",
   "metadata": {},
   "source": [
    "### Modelling"
   ]
  },
  {
   "cell_type": "code",
   "execution_count": 17,
   "metadata": {},
   "outputs": [],
   "source": [
    "from sklearn.linear_model import LogisticRegression"
   ]
  },
  {
   "cell_type": "code",
   "execution_count": 18,
   "metadata": {},
   "outputs": [
    {
     "name": "stdout",
     "output_type": "stream",
     "text": [
      "business (1020,) (1020,)\n",
      "(816, 20500) (204, 20500) (816,) (204,)\n",
      "predicting for category business\n",
      "[[103   2]\n",
      " [  5  94]]\n",
      "0.9656862745098039\n",
      "*****************************************\n",
      "                        \n",
      "entertainment (772,) (772,)\n",
      "(617, 18695) (155, 18695) (617,) (155,)\n",
      "predicting for category entertainment\n",
      "[[77  1]\n",
      " [ 7 70]]\n",
      "0.9483870967741935\n",
      "*****************************************\n",
      "                        \n",
      "politics (832,) (832,)\n",
      "(665, 18658) (167, 18658) (665,) (167,)\n",
      "predicting for category politics\n",
      "[[90  1]\n",
      " [ 4 72]]\n",
      "0.9700598802395209\n",
      "*****************************************\n",
      "                        \n",
      "sport (1022,) (1022,)\n",
      "(817, 20093) (205, 20093) (817,) (205,)\n",
      "predicting for category sport\n",
      "[[103   0]\n",
      " [  1 101]]\n",
      "0.9951219512195122\n",
      "*****************************************\n",
      "                        \n",
      "tech (802,) (802,)\n",
      "(641, 18610) (161, 18610) (641,) (161,)\n",
      "predicting for category tech\n",
      "[[73  2]\n",
      " [ 3 83]]\n",
      "0.968944099378882\n",
      "*****************************************\n",
      "                        \n"
     ]
    }
   ],
   "source": [
    "predicted_proba=[]\n",
    "for i in dataset['y'].unique():\n",
    "    d1=dataset[dataset[i]==1]\n",
    "    d2=dataset[dataset[i]!=1].sample(d1.shape[0])\n",
    "    final_dataset=d1.append(d2)\n",
    "    x=final_dataset['x']\n",
    "    y=final_dataset[i]\n",
    "    from sklearn.metrics import confusion_matrix,accuracy_score\n",
    "    from sklearn.feature_extraction.text import TfidfVectorizer\n",
    "    vectorizer = TfidfVectorizer()\n",
    "    vectorizer.fit(x)\n",
    "    transformed_x=vectorizer.transform(x)\n",
    "    print(i,x.shape,y.shape)\n",
    "    from sklearn.model_selection import train_test_split\n",
    "    X_train, X_test, y_train, y_test = train_test_split(transformed_x, y, test_size=0.2)\n",
    "    print(X_train.shape,X_test.shape,y_train.shape,y_test.shape)\n",
    "    lr=LogisticRegression()\n",
    "    lr.fit(X_train,y_train)\n",
    "    print(\"predicting for category\",i)\n",
    "    print(confusion_matrix(y_test,lr.predict(X_test)))\n",
    "    print(accuracy_score(y_test,lr.predict(X_test)))\n",
    "    predicted_proba.append(lr.predict_proba(X_test))\n",
    "    \n",
    "    print(\"*****************************************\")\n",
    "    \n",
    "    print(\"                        \")"
   ]
  },
  {
   "cell_type": "code",
   "execution_count": 19,
   "metadata": {},
   "outputs": [],
   "source": [
    "predicted_proba=np.array(predicted_proba)"
   ]
  },
  {
   "cell_type": "code",
   "execution_count": 20,
   "metadata": {},
   "outputs": [
    {
     "data": {
      "text/plain": [
       "(5,)"
      ]
     },
     "execution_count": 20,
     "metadata": {},
     "output_type": "execute_result"
    }
   ],
   "source": [
    "predicted_proba.shape"
   ]
  },
  {
   "cell_type": "code",
   "execution_count": 21,
   "metadata": {},
   "outputs": [
    {
     "data": {
      "text/plain": [
       "(204, 2)"
      ]
     },
     "execution_count": 21,
     "metadata": {},
     "output_type": "execute_result"
    }
   ],
   "source": [
    "predicted_proba[0].shape"
   ]
  },
  {
   "cell_type": "code",
   "execution_count": 22,
   "metadata": {},
   "outputs": [
    {
     "data": {
      "text/plain": [
       "((155, 2), (167, 2), (205, 2))"
      ]
     },
     "execution_count": 22,
     "metadata": {},
     "output_type": "execute_result"
    }
   ],
   "source": [
    "predicted_proba[1].shape,predicted_proba[2].shape,predicted_proba[3].shape"
   ]
  },
  {
   "cell_type": "code",
   "execution_count": 23,
   "metadata": {},
   "outputs": [
    {
     "data": {
      "text/plain": [
       "array([0.85337633, 0.84792131, 0.89460245, 0.26508325, 0.10323847])"
      ]
     },
     "execution_count": 23,
     "metadata": {},
     "output_type": "execute_result"
    }
   ],
   "source": [
    "predicted_proba[0][:,1][0:5]"
   ]
  },
  {
   "cell_type": "code",
   "execution_count": 24,
   "metadata": {},
   "outputs": [
    {
     "data": {
      "text/plain": [
       "array([0.37985278, 0.31896351, 0.19580796, 0.24016397, 0.26713765])"
      ]
     },
     "execution_count": 24,
     "metadata": {},
     "output_type": "execute_result"
    }
   ],
   "source": [
    "predicted_proba[1][:,1][0:5]"
   ]
  },
  {
   "cell_type": "code",
   "execution_count": 25,
   "metadata": {},
   "outputs": [
    {
     "data": {
      "text/plain": [
       "array([0.15517722, 0.36440215, 0.51364067, 0.89953251, 0.25830429])"
      ]
     },
     "execution_count": 25,
     "metadata": {},
     "output_type": "execute_result"
    }
   ],
   "source": [
    "predicted_proba[2][:,1][0:5]"
   ]
  },
  {
   "cell_type": "code",
   "execution_count": null,
   "metadata": {},
   "outputs": [],
   "source": []
  }
 ],
 "metadata": {
  "hide_input": false,
  "kernelspec": {
   "display_name": "Python 3",
   "language": "python",
   "name": "python3"
  },
  "language_info": {
   "codemirror_mode": {
    "name": "ipython",
    "version": 3
   },
   "file_extension": ".py",
   "mimetype": "text/x-python",
   "name": "python",
   "nbconvert_exporter": "python",
   "pygments_lexer": "ipython3",
   "version": "3.7.6"
  },
  "toc": {
   "base_numbering": 1,
   "nav_menu": {},
   "number_sections": true,
   "sideBar": true,
   "skip_h1_title": false,
   "title_cell": "Table of Contents",
   "title_sidebar": "Contents",
   "toc_cell": false,
   "toc_position": {},
   "toc_section_display": true,
   "toc_window_display": false
  }
 },
 "nbformat": 4,
 "nbformat_minor": 4
}
